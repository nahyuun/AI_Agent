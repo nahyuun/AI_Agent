{
 "cells": [
  {
   "cell_type": "markdown",
   "metadata": {},
   "source": [
    "# Load Package"
   ]
  },
  {
   "cell_type": "code",
   "execution_count": 1,
   "metadata": {},
   "outputs": [],
   "source": [
    "from copy import deepcopy"
   ]
  },
  {
   "cell_type": "markdown",
   "metadata": {},
   "source": [
    "# Define graph, g value and h value"
   ]
  },
  {
   "cell_type": "code",
   "execution_count": 2,
   "metadata": {},
   "outputs": [],
   "source": [
    "graph = {'A': ['B', 'C', 'D'],\n",
    "         'B': ['E', 'F'],\n",
    "         'C': ['G'],\n",
    "         'D': ['G'],\n",
    "         'E': [],\n",
    "         'F': ['G'],\n",
    "         'G': []}\n",
    "\n",
    "g = {'A': {'A':0},\n",
    "     'B': {'A':10},\n",
    "     'C': {'A':10},\n",
    "     'D': {'A':10},\n",
    "     'E': {'B':20},\n",
    "     'F': {'B':20},\n",
    "     'G': {'F':30, 'C':30, 'D':28}}\n",
    "\n",
    "h = {'A': 15,\n",
    "     'B': 5,\n",
    "     'C': 19,\n",
    "     'D': 18,\n",
    "     'E': 30,\n",
    "     'F': 2,\n",
    "     'G': 0}\n",
    "\n",
    "f = {}"
   ]
  },
  {
   "cell_type": "markdown",
   "metadata": {},
   "source": [
    "# Print function"
   ]
  },
  {
   "cell_type": "code",
   "execution_count": 3,
   "metadata": {},
   "outputs": [],
   "source": [
    "def print_list(X, open_list, closed, f):\n",
    "    f_list = []\n",
    "    print(\"----------\")\n",
    "    print(\"X =\", X)\n",
    "    print('open :', open_list)\n",
    "    if len(open_list) != 0:\n",
    "        for state in open_list:\n",
    "            f_list.append(f[state])\n",
    "    print('f_value :', f_list)\n",
    "    print('closed :', closed)"
   ]
  },
  {
   "cell_type": "markdown",
   "metadata": {},
   "source": [
    "# A* Search"
   ]
  },
  {
   "cell_type": "code",
   "execution_count": 4,
   "metadata": {},
   "outputs": [],
   "source": [
    "def A_Star_Search(graph, start, goal):\n",
    "    open_list = []\n",
    "    closed_list = []\n",
    "    \n",
    "    #open = {START}, closed = Ø\n",
    "    open_list.extend(start)\n",
    "    f[start] = h[start]\n",
    "    print_list(None, open_list, closed_list, f)\n",
    "\n",
    "    while(open_list):\n",
    "        #remove leftmost state from open -> X\n",
    "        (1)\n",
    "        \n",
    "        if (2):\n",
    "            print_list(X, open_list, closed_list, f)\n",
    "            return \"*** Success ***\"\n",
    "        else:\n",
    "            #generate and evaluate children of X\n",
    "            (3)\n",
    "            \n",
    "            #put X into closed\n",
    "            (4)\n",
    "            \n",
    "            #update f by g, h\n",
    "            for child in children:\n",
    "                f[child] = (5)\n",
    "            \n",
    "            sorted_children = sorted(children, key=f.get)\n",
    "            for child in sorted_children:\n",
    "                #if C is in open \tupdate path\n",
    "                if child in open_list:\n",
    "                    print(\"update child from open list: \", child)\n",
    "                    f[child] = (5)\n",
    "                        \n",
    "                #if C is in closed and reached by shorter path \n",
    "                #remove C from closed, put into open\n",
    "                if child in closed_list:\n",
    "                    print(\"update child from closed list\", child)\n",
    "                    f[child] = (5)\n",
    "\n",
    "                #put C into open\n",
    "                else:\n",
    "                    if child not in open_list:\n",
    "                        (6)\n",
    "            \n",
    "            #reorder open(priority queue)\n",
    "            (7)\n",
    "\n",
    "        print_list(X, open_list, closed_list, f)\n",
    "        \n",
    "    return \"*** Fail ***\" "
   ]
  },
  {
   "cell_type": "markdown",
   "metadata": {},
   "source": [
    "# Run"
   ]
  },
  {
   "cell_type": "code",
   "execution_count": 5,
   "metadata": {},
   "outputs": [
    {
     "name": "stdout",
     "output_type": "stream",
     "text": [
      "Start State: A\n",
      "Goal State: G\n",
      "----------\n",
      "X = None\n",
      "open : ['A']\n",
      "f_value : [15]\n",
      "closed : []\n",
      "----------\n",
      "X = A\n",
      "open : ['B', 'D', 'C']\n",
      "f_value : [15, 28, 29]\n",
      "closed : ['A']\n",
      "----------\n",
      "X = B\n",
      "open : ['F', 'D', 'C', 'E']\n",
      "f_value : [22, 28, 29, 50]\n",
      "closed : ['A', 'B']\n",
      "----------\n",
      "X = F\n",
      "open : ['D', 'C', 'G', 'E']\n",
      "f_value : [28, 29, 30, 50]\n",
      "closed : ['A', 'B', 'F']\n",
      "update child from open list:  G\n",
      "----------\n",
      "X = D\n",
      "open : ['G', 'C', 'E']\n",
      "f_value : [28, 29, 50]\n",
      "closed : ['A', 'B', 'F', 'D']\n",
      "----------\n",
      "X = G\n",
      "open : ['C', 'E']\n",
      "f_value : [29, 50]\n",
      "closed : ['A', 'B', 'F', 'D']\n",
      "*** Success ***\n"
     ]
    }
   ],
   "source": [
    "start_state = input(\"Start State: \")\n",
    "goal_state = input(\"Goal State: \")\n",
    "print(A_Star_Search(deepcopy(graph), start_state, goal_state))"
   ]
  },
  {
   "cell_type": "code",
   "execution_count": null,
   "metadata": {},
   "outputs": [],
   "source": []
  }
 ],
 "metadata": {
  "kernelspec": {
   "display_name": "Python 3",
   "language": "python",
   "name": "python3"
  },
  "language_info": {
   "codemirror_mode": {
    "name": "ipython",
    "version": 3
   },
   "file_extension": ".py",
   "mimetype": "text/x-python",
   "name": "python",
   "nbconvert_exporter": "python",
   "pygments_lexer": "ipython3",
   "version": "3.6.5"
  }
 },
 "nbformat": 4,
 "nbformat_minor": 2
}
