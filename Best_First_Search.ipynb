{
 "cells": [
  {
   "cell_type": "markdown",
   "metadata": {},
   "source": [
    "# Load Package"
   ]
  },
  {
   "cell_type": "code",
   "execution_count": 1,
   "metadata": {},
   "outputs": [],
   "source": [
    "from copy import deepcopy"
   ]
  },
  {
   "cell_type": "markdown",
   "metadata": {},
   "source": [
    "# Define graph and f value"
   ]
  },
  {
   "cell_type": "code",
   "execution_count": 2,
   "metadata": {},
   "outputs": [],
   "source": [
    "graph = {'A': ['B', 'C', 'D'],\n",
    "         'B': ['E', 'F'],\n",
    "         'C': ['G'],\n",
    "         'D': ['G'],\n",
    "         'E': [],\n",
    "         'F': ['G'],\n",
    "         'G': []}\n",
    "\n",
    "f = {'A': 4,\n",
    "     'B': 1,\n",
    "     'C': 2,\n",
    "     'D': 3,\n",
    "     'E': 4,\n",
    "     'F': 3,\n",
    "     'G': 0}"
   ]
  },
  {
   "cell_type": "markdown",
   "metadata": {},
   "source": [
    "# Print function"
   ]
  },
  {
   "cell_type": "code",
   "execution_count": 3,
   "metadata": {},
   "outputs": [],
   "source": [
    "def print_list(X, open_list, closed, f):\n",
    "    f_list = []\n",
    "    print(\"----------\")\n",
    "    print(\"X =\", X)\n",
    "    print('open :', open_list)\n",
    "    if len(open_list) != 0:\n",
    "        for state in open_list:\n",
    "            f_list.append(f[state])\n",
    "    print('f_value :', f_list)\n",
    "    print('closed :', closed)"
   ]
  },
  {
   "cell_type": "markdown",
   "metadata": {},
   "source": [
    "# Best First Search"
   ]
  },
  {
   "cell_type": "code",
   "execution_count": 5,
   "metadata": {},
   "outputs": [],
   "source": [
    "def Best_First(graph, start, goal):\n",
    "    open_list = []\n",
    "    closed_list = []\n",
    "    \n",
    "    #open = {START}, closed = Ø\n",
    "    open_list.extend(start)\n",
    "    print_list(None, open_list, closed_list, f)\n",
    "    \n",
    "    while(open_list):\n",
    "        #remove leftmost state from open -> X\n",
    "        (1)\n",
    "        \n",
    "        if (2):\n",
    "            print_list(X, open_list, closed_list, f)\n",
    "            return \"*** Success ***\"\n",
    "        else:\n",
    "            #generate and evaluate children of X\n",
    "            (3)\n",
    "            \n",
    "            #put X into closed\n",
    "            closed_list.extend(X)\n",
    "            \n",
    "            sorted_children = sorted(children, key=f.get)\n",
    "            for (4):\n",
    "                #if C is in open \tupdate path\n",
    "                if child in open_list:\n",
    "                    # In this problem, we don't need to use new value\n",
    "                    # because, all nodes have only one value\n",
    "                    print(\"update child from open list: \", child)\n",
    "                    \n",
    "                #if C is in closed and reached by shorter path \n",
    "                #remove C from closed, put into open\n",
    "                if child in closed_list:\n",
    "                    # In this problem, we don't need to use new value\n",
    "                    # because, all nodes have only one value\n",
    "                    print(\"update child from closed list\", child)\n",
    "                \n",
    "                #put C into open\n",
    "                else:\n",
    "                    (5)\n",
    "            \n",
    "            #reorder open(priority queue)\n",
    "            open_list = (6)\n",
    "\n",
    "        print_list(X, open_list, closed_list, f)\n",
    "        \n",
    "    return \"*** Fail ***\" "
   ]
  },
  {
   "cell_type": "markdown",
   "metadata": {},
   "source": [
    "# Run"
   ]
  },
  {
   "cell_type": "code",
   "execution_count": 6,
   "metadata": {},
   "outputs": [
    {
     "name": "stdout",
     "output_type": "stream",
     "text": [
      "Start State: A\n",
      "Goal State: G\n",
      "----------\n",
      "X = None\n",
      "open : ['A']\n",
      "f_value : [4]\n",
      "closed : []\n",
      "----------\n",
      "X = A\n",
      "open : ['B', 'C', 'D']\n",
      "f_value : [1, 2, 3]\n",
      "closed : ['A']\n",
      "----------\n",
      "X = B\n",
      "open : ['C', 'D', 'F', 'E']\n",
      "f_value : [2, 3, 3, 4]\n",
      "closed : ['A', 'B']\n",
      "----------\n",
      "X = C\n",
      "open : ['G', 'D', 'F', 'E']\n",
      "f_value : [0, 3, 3, 4]\n",
      "closed : ['A', 'B', 'C']\n",
      "----------\n",
      "X = G\n",
      "open : ['D', 'F', 'E']\n",
      "f_value : [3, 3, 4]\n",
      "closed : ['A', 'B', 'C']\n",
      "*** Success ***\n"
     ]
    }
   ],
   "source": [
    "start_state = input(\"Start State: \")\n",
    "goal_state = input(\"Goal State: \")\n",
    "print(Best_First(deepcopy(graph), start_state, goal_state))"
   ]
  },
  {
   "cell_type": "code",
   "execution_count": null,
   "metadata": {},
   "outputs": [],
   "source": []
  }
 ],
 "metadata": {
  "kernelspec": {
   "display_name": "Python 3",
   "language": "python",
   "name": "python3"
  },
  "language_info": {
   "codemirror_mode": {
    "name": "ipython",
    "version": 3
   },
   "file_extension": ".py",
   "mimetype": "text/x-python",
   "name": "python",
   "nbconvert_exporter": "python",
   "pygments_lexer": "ipython3",
   "version": "3.6.5"
  }
 },
 "nbformat": 4,
 "nbformat_minor": 2
}
