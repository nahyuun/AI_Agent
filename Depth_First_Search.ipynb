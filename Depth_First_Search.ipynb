{
 "cells": [
  {
   "cell_type": "markdown",
   "metadata": {},
   "source": [
    "# Load Package"
   ]
  },
  {
   "cell_type": "code",
   "execution_count": 1,
   "metadata": {},
   "outputs": [],
   "source": [
    "from copy import deepcopy"
   ]
  },
  {
   "cell_type": "markdown",
   "metadata": {},
   "source": [
    "# Define graph"
   ]
  },
  {
   "cell_type": "code",
   "execution_count": 2,
   "metadata": {},
   "outputs": [],
   "source": [
    "graph = {'A': ['B', 'C', 'D'],\n",
    "         'B': ['E', 'F'],\n",
    "         'C': ['G'],\n",
    "         'D': ['G'],\n",
    "         'E': [],\n",
    "         'F': ['G'],\n",
    "         'G': []}"
   ]
  },
  {
   "cell_type": "markdown",
   "metadata": {},
   "source": [
    "# Print function"
   ]
  },
  {
   "cell_type": "code",
   "execution_count": 3,
   "metadata": {},
   "outputs": [],
   "source": [
    "def print_list(X, open_list, closed):\n",
    "    print(\"----------\")\n",
    "    print(\"X =\", X)\n",
    "    print('open :', open_list)\n",
    "    print('closed :', closed)"
   ]
  },
  {
   "cell_type": "markdown",
   "metadata": {},
   "source": [
    "# Depth First Search"
   ]
  },
  {
   "cell_type": "code",
   "execution_count": 4,
   "metadata": {},
   "outputs": [],
   "source": [
    "def DFS(graph, start, goal):\n",
    "    open_list = []\n",
    "    closed_list = []\n",
    "    \n",
    "    #open = {START}, closed = Ø\n",
    "    open_list.extend(start)\n",
    "    print_list(None, open_list, closed_list)\n",
    "    \n",
    "    while(open_list):\n",
    "        #remove leftmost state from open -> X\n",
    "        (1)\n",
    "        \n",
    "        #if (X is GOAL) return (success)\n",
    "        if (2):\n",
    "            print_list(X, open_list, closed_list)\n",
    "            return \"*** Success ***\"\n",
    "        \n",
    "        else:\n",
    "            #generate children of X\n",
    "            (3)\n",
    "            \n",
    "            #put X into closed\n",
    "            (4)\n",
    "            \n",
    "            # eliminate child if it is in open or close\n",
    "            (5)\n",
    "            \n",
    "            #put remaining children into left of open(stack)\n",
    "            (6)\n",
    "            \n",
    "        #print list\n",
    "        print_list(X, open_list, closed_list)\n",
    "        \n",
    "    return \"*** Fail ***\"   "
   ]
  },
  {
   "cell_type": "markdown",
   "metadata": {},
   "source": [
    "# Run"
   ]
  },
  {
   "cell_type": "code",
   "execution_count": 5,
   "metadata": {},
   "outputs": [
    {
     "name": "stdout",
     "output_type": "stream",
     "text": [
      "Start State: A\n",
      "Goal State: G\n",
      "----------\n",
      "X = None\n",
      "open : ['A']\n",
      "closed : []\n",
      "----------\n",
      "X = A\n",
      "open : ['B', 'C', 'D']\n",
      "closed : ['A']\n",
      "----------\n",
      "X = B\n",
      "open : ['E', 'F', 'C', 'D']\n",
      "closed : ['A', 'B']\n",
      "----------\n",
      "X = E\n",
      "open : ['F', 'C', 'D']\n",
      "closed : ['A', 'B', 'E']\n",
      "----------\n",
      "X = F\n",
      "open : ['G', 'C', 'D']\n",
      "closed : ['A', 'B', 'E', 'F']\n",
      "----------\n",
      "X = G\n",
      "open : ['C', 'D']\n",
      "closed : ['A', 'B', 'E', 'F']\n",
      "*** Success ***\n"
     ]
    }
   ],
   "source": [
    "start_state = input(\"Start State: \")\n",
    "goal_state = input(\"Goal State: \")\n",
    "print(DFS(deepcopy(graph), start_state, goal_state))"
   ]
  },
  {
   "cell_type": "code",
   "execution_count": null,
   "metadata": {},
   "outputs": [],
   "source": []
  }
 ],
 "metadata": {
  "kernelspec": {
   "display_name": "Python 3",
   "language": "python",
   "name": "python3"
  },
  "language_info": {
   "codemirror_mode": {
    "name": "ipython",
    "version": 3
   },
   "file_extension": ".py",
   "mimetype": "text/x-python",
   "name": "python",
   "nbconvert_exporter": "python",
   "pygments_lexer": "ipython3",
   "version": "3.6.5"
  }
 },
 "nbformat": 4,
 "nbformat_minor": 2
}
